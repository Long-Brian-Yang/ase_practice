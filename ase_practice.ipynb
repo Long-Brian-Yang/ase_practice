{
 "cells": [
  {
   "cell_type": "markdown",
   "metadata": {},
   "source": [
    "### 1 build model, visulization and SCF computation\n",
    "#### 1.1 Atoms\n",
    "An Atoms object is a collection of atoms. Here's how to define N2 by directly specifying the positions of two nitrogen atoms molecule by directly specifying the positions of two nitrogen atoms"
   ]
  },
  {
   "cell_type": "code",
   "execution_count": 1,
   "metadata": {},
   "outputs": [],
   "source": [
    "from ase import Atoms\n",
    "\n",
    "d=1.10\n",
    "molecule = Atoms('2N', positions=[(0., 0., 0.), (0., 0., d)])"
   ]
  },
  {
   "cell_type": "markdown",
   "metadata": {},
   "source": [
    "You can also build crystals using the lattice module, which returns Atoms objects corresponding to common crystal structures. Let's make a Cu(111) surface:"
   ]
  },
  {
   "cell_type": "code",
   "execution_count": 2,
   "metadata": {},
   "outputs": [],
   "source": [
    "from ase.build import fcc111\n",
    "\n",
    "slab = fcc111('Cu', size=(4,4,2), vacuum=10.0)"
   ]
  },
  {
   "cell_type": "markdown",
   "metadata": {},
   "source": [
    "How does it feel to build a model directly from code? Probably not as solid as the “what you see is what you get” modeling software. Let's take a look at how our model is constructed, which can be done with the view() method of ase.visualize."
   ]
  },
  {
   "cell_type": "code",
   "execution_count": 3,
   "metadata": {},
   "outputs": [
    {
     "data": {
      "text/plain": [
       "<Popen: returncode: None args: ['/opt/anaconda3/bin/python', '-m', 'ase', 'g...>"
      ]
     },
     "execution_count": 3,
     "metadata": {},
     "output_type": "execute_result"
    }
   ],
   "source": [
    "from ase.visualize import view\n",
    "\n",
    "view(molecule)\n",
    "view(slab) # can be done by vscode"
   ]
  },
  {
   "cell_type": "markdown",
   "metadata": {},
   "source": [
    "view() will bring up an ase.gui window, which is interactive and allows you to change the visualization angle and select atoms, etc.\n",
    "Note, however, that the default viewer uses the ase.gui window and cannot be displayed in a notebook.\n",
    "An alternate viewer can be used by specifying the optional keyword viewer=... to use an alternate viewer."
   ]
  },
  {
   "cell_type": "markdown",
   "metadata": {},
   "source": [
    "#### 1.2 Adding a Calculator\n",
    "Most of the calculations in this ASE tutorial use the Effective Medium Theory (EMT) calculator because it is very fast. Note, however, that other calculators can be attached to the ASE module via ase.calculator, such as VASP, GPAW, pyscf, and ABACUS.\n",
    "\n",
    "we can attach the calculator to a previously created Atoms object:"
   ]
  },
  {
   "cell_type": "code",
   "execution_count": 4,
   "metadata": {},
   "outputs": [],
   "source": [
    "from ase.calculators.emt import EMT\n",
    "slab.calc = EMT()\n",
    "molecule.calc = EMT()"
   ]
  },
  {
   "cell_type": "markdown",
   "metadata": {},
   "source": [
    "\n",
    "and use the get_potential_energy() method of the Atoms class to use it to calculate the total energy of the system:"
   ]
  },
  {
   "cell_type": "code",
   "execution_count": 5,
   "metadata": {},
   "outputs": [
    {
     "name": "stdout",
     "output_type": "stream",
     "text": [
      "N2 energy:0.440343573035614\n",
      "Cu energy:11.509056283569898\n"
     ]
    }
   ],
   "source": [
    "e_slab = slab.get_potential_energy()\n",
    "e_N2 = molecule.get_potential_energy()\n",
    "print(f'N2 energy:{e_N2}')\n",
    "print(f'Cu energy:{e_slab}')"
   ]
  },
  {
   "cell_type": "markdown",
   "metadata": {},
   "source": [
    "### 2 Structure optimization: the adsorbed state as an example\n",
    "Let us use the Quasi-Newton optimization (QNO) method to optimize N2 structure of molecules adsorbed on a copper surface. First the adsorbent needs to be added to the copper sheet to construct the surface adsorption model"
   ]
  },
  {
   "cell_type": "code",
   "execution_count": null,
   "metadata": {},
   "outputs": [],
   "source": [
    "from ase.build import add_adsorbate\n",
    "\n",
    "h = 1.85\n",
    "add_adsorbate(slab, molecule, h, 'ontop')"
   ]
  },
  {
   "cell_type": "markdown",
   "metadata": {},
   "source": [
    "In order to better simulate the “surface extending out from the bulk phase” system and to speed up the optimization, it is common to calculate the surface adsorption and reaction system by fixing 1-2 layers of atoms relative to the bottom surface.\n",
    "\n",
    "For simplicity, let's use FixAtoms from the ase.constraints constraints module to fix all Cu atoms, allowing only N2 molecules to relax to the equilibrium structure. Due to the fast calculation speed of the EMT calculator, this atom fixing operation can be left out.\n",
    "\n",
    "It is important to note that the fixed atoms are simply not involved in the relaxation, not in the calculation. Therefore, the immobilized atom still has an effect on the total energy of the system."
   ]
  },
  {
   "cell_type": "code",
   "execution_count": 6,
   "metadata": {},
   "outputs": [],
   "source": [
    "from ase.constraints import FixAtoms\n",
    "\n",
    "constraint = FixAtoms(mask=[a.symbol != 'N' for a in slab])\n",
    "slab.set_constraint(constraint)"
   ]
  },
  {
   "cell_type": "markdown",
   "metadata": {},
   "source": [
    "Now connect the proposed Newtonian minimizer to the system and save the trajectory file. Run the optimization calculation at the given convergence criterion, i.e., the forces on all atoms should be less than some fmax:"
   ]
  },
  {
   "cell_type": "code",
   "execution_count": 7,
   "metadata": {},
   "outputs": [
    {
     "name": "stdout",
     "output_type": "stream",
     "text": [
      "                Step[ FC]     Time          Energy          fmax\n",
      "BFGSLineSearch:    0[  0] 17:51:34       11.509056       0.0000\n"
     ]
    },
    {
     "data": {
      "text/plain": [
       "True"
      ]
     },
     "execution_count": 7,
     "metadata": {},
     "output_type": "execute_result"
    }
   ],
   "source": [
    "from ase.optimize import QuasiNewton\n",
    "\n",
    "dyn = QuasiNewton(slab, trajectory='N2Cu.traj')\n",
    "dyn.run(fmax=0.05)"
   ]
  },
  {
   "cell_type": "markdown",
   "metadata": {},
   "source": [
    "Other optimizers can be used here, such as BFGS, CG, etc., which are commonly used in optimization."
   ]
  },
  {
   "cell_type": "code",
   "execution_count": 8,
   "metadata": {},
   "outputs": [
    {
     "name": "stdout",
     "output_type": "stream",
     "text": [
      "      Step     Time          Energy          fmax\n",
      "BFGS:    0 17:52:14       11.509056        0.000000\n"
     ]
    },
    {
     "data": {
      "text/plain": [
       "True"
      ]
     },
     "execution_count": 8,
     "metadata": {},
     "output_type": "execute_result"
    }
   ],
   "source": [
    "from ase.optimize import BFGS\n",
    "import os\n",
    "os.system(\"rm -f N2Cu.traj\")\n",
    "\n",
    "dyn2 = BFGS(slab, trajectory='N2Cu.traj')\n",
    "dyn2.run(fmax=0.05)"
   ]
  },
  {
   "cell_type": "markdown",
   "metadata": {},
   "source": [
    "By this point we have the total energy of the system after relaxation which is 11.509056.\n",
    "\n",
    "Let us calculate the adsorption energy."
   ]
  },
  {
   "cell_type": "code",
   "execution_count": 9,
   "metadata": {},
   "outputs": [
    {
     "name": "stdout",
     "output_type": "stream",
     "text": [
      "sorption energy: 0.440343573035614\n"
     ]
    }
   ],
   "source": [
    "print('sorption energy:', e_slab + e_N2 - slab.get_potential_energy())"
   ]
  },
  {
   "cell_type": "markdown",
   "metadata": {},
   "source": [
    "### 3 Input and Output\n",
    "The input and output of the ASE is done through the methods in the ase.io module.\n",
    "\n",
    "The write() function can be called to write atomic positions to a file:"
   ]
  },
  {
   "cell_type": "code",
   "execution_count": null,
   "metadata": {},
   "outputs": [],
   "source": [
    "from ase.io import write\n",
    "\n",
    "write('slab.xyz', slab) # save xyz file"
   ]
  },
  {
   "cell_type": "markdown",
   "metadata": {},
   "source": [
    "This will write the file in xyz format. The possible formats are:\n",
    "\n",
    "| format | description |\n",
    "| ------ | -------------------------- |\n",
    "| `xyz` | regular xyz format (actually `extxyz` format) |\n",
    "| `cube` | Gaussian cube file |\n",
    "| `pdb` | Protein data storage files |\n",
    "| `traj` | ASE's own trajectory format |\n",
    "| `py` | Python scripts |\n",
    "\n",
    "The `extxyz` format here is an enhanced version of the `xyz` format, which retains the basic information of the `xyz` format.\n",
    "The `extxyz` format is an enhanced version of the `xyz` format, which retains the basic information of the `xyz` format, but adds support for reading and writing various properties of the system (energies, atomic forces, virials, etc.). This format has been used in a variety of software applications, such as the molecular dynamics visualization software Ovito, as well as the graphical neural network machine learning potential Nequip."
   ]
  },
  {
   "cell_type": "markdown",
   "metadata": {},
   "source": [
    "\n",
    "The `read()` function of the `ase.io` module is often used to read chemical information from a file, as follows:"
   ]
  },
  {
   "cell_type": "code",
   "execution_count": 11,
   "metadata": {},
   "outputs": [],
   "source": [
    "from ase.io import read\n",
    "\n",
    "slab_from_file = read('slab.xyz')"
   ]
  },
  {
   "cell_type": "markdown",
   "metadata": {},
   "source": [
    "### 4 Case summary: N2 adsorption on Cu\n",
    "Combining the above codes, it is a continuous code for the whole process of N2 adsorption on the surface of Cu111 simply examined by ASE"
   ]
  },
  {
   "cell_type": "code",
   "execution_count": 12,
   "metadata": {},
   "outputs": [
    {
     "name": "stdout",
     "output_type": "stream",
     "text": [
      "                Step[ FC]     Time          Energy          fmax\n",
      "BFGSLineSearch:    0[  0] 18:02:54       11.689927       1.0797\n",
      "BFGSLineSearch:    1[  2] 18:02:54       11.670814       0.4090\n",
      "BFGSLineSearch:    2[  4] 18:02:54       11.625880       0.0409\n",
      "sorption energy: 0.32351942231763786\n"
     ]
    }
   ],
   "source": [
    "from ase import Atoms\n",
    "from ase.calculators.emt import EMT\n",
    "from ase.constraints import FixAtoms\n",
    "from ase.optimize import QuasiNewton\n",
    "from ase.build import fcc111, add_adsorbate\n",
    "\n",
    "h = 1.85\n",
    "d = 1.10\n",
    "\n",
    "slab = fcc111('Cu', size=(4, 4, 2), vacuum=10.0)\n",
    "\n",
    "slab.calc = EMT()\n",
    "e_slab = slab.get_potential_energy()\n",
    "\n",
    "molecule = Atoms('2N', positions=[(0., 0., 0.), (0., 0., d)])\n",
    "molecule.calc = EMT()\n",
    "e_N2 = molecule.get_potential_energy()\n",
    "\n",
    "add_adsorbate(slab, molecule, h, 'ontop')\n",
    "constraint = FixAtoms(mask=[a.symbol != 'N' for a in slab])\n",
    "slab.set_constraint(constraint)\n",
    "dyn = QuasiNewton(slab, trajectory='N2Cu.traj')\n",
    "dyn.run(fmax=0.05)\n",
    "\n",
    "print('sorption energy:', e_slab + e_N2 - slab.get_potential_energy())"
   ]
  },
  {
   "cell_type": "markdown",
   "metadata": {},
   "source": [
    "The surface adsorption system obtained from our optimization can also be visualized using the view() function"
   ]
  },
  {
   "cell_type": "code",
   "execution_count": 13,
   "metadata": {},
   "outputs": [
    {
     "data": {
      "text/plain": [
       "<Popen: returncode: None args: ['/opt/anaconda3/bin/python', '-m', 'ase', 'g...>"
      ]
     },
     "execution_count": 13,
     "metadata": {},
     "output_type": "execute_result"
    }
   ],
   "source": [
    "from ase.visualize import view\n",
    "\n",
    "view(slab) # can be done by vscode"
   ]
  },
  {
   "cell_type": "markdown",
   "metadata": {},
   "source": [
    "### 5 Example of molecular dynamics calculations\n",
    "The ase.md module in ase allows for molecular dynamics calculations, so let's run a simple molecular dynamics simulation using the VelocityVerlet algorithm on a nitrogen molecule as an example.\n",
    "\n",
    "We first create the VelocityVerlet object, assigning it to the molecule (i.e., the Atoms object for N2) and to the time step used for the integration of Newton's laws.\n",
    "\n",
    "We then execute the dynamics by calling its run() method and telling it how many steps to perform:"
   ]
  },
  {
   "cell_type": "code",
   "execution_count": 14,
   "metadata": {},
   "outputs": [
    {
     "name": "stderr",
     "output_type": "stream",
     "text": [
      "/opt/anaconda3/lib/python3.11/site-packages/ase/md/verlet.py:53: FutureWarning: dt variable is deprecated; please use timestep.\n",
      "  warnings.warn(\n"
     ]
    },
    {
     "name": "stdout",
     "output_type": "stream",
     "text": [
      " 0: 0.44034 eV, 0.44034 eV, 0.00000 eV\n",
      " 1: 0.43917 eV, 0.32568 eV, 0.11349 eV\n",
      " 2: 0.43831 eV, 0.28902 eV, 0.14929 eV\n",
      " 3: 0.44075 eV, 0.44064 eV, 0.00011 eV\n",
      " 4: 0.43838 eV, 0.29518 eV, 0.14320 eV\n",
      " 5: 0.43909 eV, 0.31878 eV, 0.12031 eV\n",
      " 6: 0.44034 eV, 0.44008 eV, 0.00026 eV\n",
      " 7: 0.43926 eV, 0.33273 eV, 0.10653 eV\n",
      " 8: 0.43824 eV, 0.28343 eV, 0.15482 eV\n",
      " 9: 0.44073 eV, 0.43975 eV, 0.00098 eV\n"
     ]
    }
   ],
   "source": [
    "from ase.md.verlet import VelocityVerlet\n",
    "from ase import units # units模块用于定义单位\n",
    "\n",
    "dyn = VelocityVerlet(molecule, dt=1.0 * units.fs) \n",
    "\n",
    "for i in range(10):\n",
    "    pot = molecule.get_potential_energy()\n",
    "    kin = molecule.get_kinetic_energy()\n",
    "    print('%2d: %.5f eV, %.5f eV, %.5f eV' % (i, pot + kin, pot, kin))\n",
    "    dyn.run(steps=50)"
   ]
  },
  {
   "cell_type": "markdown",
   "metadata": {},
   "source": [
    "### 6 Summary"
   ]
  },
  {
   "cell_type": "code",
   "execution_count": 15,
   "metadata": {},
   "outputs": [],
   "source": [
    "# after running the above code, the molecule will move\n",
    "import os\n",
    "\n",
    "tmp_files = ['N2Cu.traj', 'slab.xyz']\n",
    "for i in tmp_files:\n",
    "    os.remove(i)"
   ]
  },
  {
   "cell_type": "markdown",
   "metadata": {},
   "source": [
    "In this tutorial, you learned some of the basic approaches in ASE.\n",
    "\n",
    "Specifically, you learned:\n",
    "\n",
    "・Define a molecule or crystal using ASE.\n",
    "\n",
    "・Calculate system energies and perform structural relaxation.\n",
    "\n",
    "・Read or write atom files using ASE\n",
    "\n",
    "・Visualize atom files\n",
    "\n",
    "・Perform molecular dynamics calculations with ASE"
   ]
  }
 ],
 "metadata": {
  "kernelspec": {
   "display_name": "base",
   "language": "python",
   "name": "python3"
  },
  "language_info": {
   "codemirror_mode": {
    "name": "ipython",
    "version": 3
   },
   "file_extension": ".py",
   "mimetype": "text/x-python",
   "name": "python",
   "nbconvert_exporter": "python",
   "pygments_lexer": "ipython3",
   "version": "3.11.7"
  }
 },
 "nbformat": 4,
 "nbformat_minor": 2
}
